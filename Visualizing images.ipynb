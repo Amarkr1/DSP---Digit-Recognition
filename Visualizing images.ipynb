{
 "cells": [
  {
   "cell_type": "code",
   "execution_count": 72,
   "metadata": {},
   "outputs": [],
   "source": [
    "import cv2\n",
    "import matplotlib.pyplot as plt\n",
    "import plotly.plotly as py\n",
    "import numpy as np # linear algebra\n",
    "import pandas as pd # data processing, CSV file I/O (e.g. pd.read_csv)\n",
    "import keras\n",
    "from keras.utils import np_utils\n",
    "from keras.layers.core import Dense, Dropout\n",
    "from keras.layers import Convolution2D, MaxPooling2D, Flatten, AveragePooling2D\n",
    "from keras.utils import plot_model, np_utils\n",
    "from sklearn.model_selection import train_test_split\n",
    "\n",
    "%matplotlib inline\n",
    "import matplotlib.pyplot as plt\n",
    "import matplotlib.cm as cm\n",
    "import math\n",
    "from scipy import ndimage\n",
    "from keras.layers import Activation, Dense"
   ]
  },
  {
   "cell_type": "code",
   "execution_count": 20,
   "metadata": {
    "collapsed": true
   },
   "outputs": [],
   "source": [
    "img = cv2.imread(\"C:\\\\Users\\\\akumar47\\\\Dropbox\\\\Courses\\\\ECSE 512 - DSP\\\\Project_\\\\write images\\\\six.png\",1)"
   ]
  },
  {
   "cell_type": "code",
   "execution_count": 21,
   "metadata": {},
   "outputs": [
    {
     "data": {
      "text/plain": [
       "<matplotlib.image.AxesImage at 0x1eca3e20048>"
      ]
     },
     "execution_count": 21,
     "metadata": {},
     "output_type": "execute_result"
    },
    {
     "data": {
      "image/png": "[encoded data removed]",
      "text/plain": [
       "<matplotlib.figure.Figure at 0x1eca3e00080>"
      ]
     },
     "metadata": {},
     "output_type": "display_data"
    }
   ],
   "source": [
    "plt.imshow(img)"
   ]
  },
  {
   "cell_type": "code",
   "execution_count": 22,
   "metadata": {},
   "outputs": [
    {
     "data": {
      "text/plain": [
       "(28, 28, 3)"
      ]
     },
     "execution_count": 22,
     "metadata": {},
     "output_type": "execute_result"
    }
   ],
   "source": [
    "img.shape"
   ]
  },
  {
   "cell_type": "code",
   "execution_count": 23,
   "metadata": {},
   "outputs": [
    {
     "name": "stderr",
     "output_type": "stream",
     "text": [
      "C:\\Users\\akumar47\\AppData\\Local\\Continuum\\anaconda3\\lib\\site-packages\\ipykernel\\__main__.py:3: UserWarning:\n",
      "\n",
      "Update your `Conv2D` call to the Keras 2 API: `Conv2D(3, (3, 3), input_shape=(28, 28, 3...)`\n",
      "\n"
     ]
    }
   ],
   "source": [
    "model = keras.models.Sequential()\n",
    "# Hidden layer of 512 neurons\n",
    "model.add(Convolution2D(3,3,3, input_shape=img.shape))"
   ]
  },
  {
   "cell_type": "code",
   "execution_count": 24,
   "metadata": {
    "collapsed": true
   },
   "outputs": [],
   "source": [
    "img_batch  = np.expand_dims(img,axis =0)"
   ]
  },
  {
   "cell_type": "code",
   "execution_count": 25,
   "metadata": {
    "collapsed": true
   },
   "outputs": [],
   "source": [
    "conv_img = model.predict(img_batch)"
   ]
  },
  {
   "cell_type": "code",
   "execution_count": 26,
   "metadata": {
    "collapsed": true
   },
   "outputs": [],
   "source": [
    "def visualize_img(img_batch):\n",
    "    img = np.squeeze(img_batch,axis=0)\n",
    "    print(img.shape)\n",
    "    plt.imshow(img)"
   ]
  },
  {
   "cell_type": "code",
   "execution_count": 27,
   "metadata": {},
   "outputs": [
    {
     "name": "stdout",
     "output_type": "stream",
     "text": [
      "(26, 26, 3)\n"
     ]
    },
    {
     "data": {
      "image/png": "[encoded data removed]",
      "text/plain": [
       "<matplotlib.figure.Figure at 0x1eca3ed7e80>"
      ]
     },
     "metadata": {},
     "output_type": "display_data"
    }
   ],
   "source": [
    "visualize_img(conv_img)"
   ]
  },
  {
   "cell_type": "code",
   "execution_count": 60,
   "metadata": {},
   "outputs": [],
   "source": [
    "def nice_img_printer(model, img):\n",
    "    '''prints the cat as a 2d array'''\n",
    "    img_batch = np.expand_dims(img,axis=0)\n",
    "    conv_img2 = model.predict(img_batch)\n",
    "\n",
    "    conv_img2 = np.squeeze(conv_img2, axis=0)\n",
    "    print (conv_img.shape)\n",
    "    conv_img2 = conv_img2.reshape(conv_img2.shape[:2])\n",
    "\n",
    "    print(conv_img2.shape)\n",
    "    plt.imshow(conv_img2)"
   ]
  },
  {
   "cell_type": "code",
   "execution_count": 61,
   "metadata": {},
   "outputs": [
    {
     "name": "stdout",
     "output_type": "stream",
     "text": [
      "(1, 26, 26, 3)\n",
      "(26, 26)\n"
     ]
    },
    {
     "name": "stderr",
     "output_type": "stream",
     "text": [
      "C:\\Users\\akumar47\\AppData\\Local\\Continuum\\anaconda3\\lib\\site-packages\\ipykernel\\__main__.py:5: UserWarning:\n",
      "\n",
      "Update your `Conv2D` call to the Keras 2 API: `Conv2D(1, (3, 3), input_shape=(28, 28, 3...)`\n",
      "\n"
     ]
    },
    {
     "data": {
      "image/png": "[encoded data removed]",
      "text/plain": [
       "<matplotlib.figure.Figure at 0x1eca566bf98>"
      ]
     },
     "metadata": {},
     "output_type": "display_data"
    }
   ],
   "source": [
    "model = keras.models.Sequential()\n",
    "model.add(Convolution2D(1,    # number of filter layers\n",
    "                        3,    # y dimension of kernel (we're going for a 3x3 kernel)\n",
    "                        3,    # x dimension of kernel\n",
    "                        input_shape=img.shape))\n",
    "\n",
    "# Keras expects batches of images, so we have to add a dimension to trick it into being nice\n",
    "nice_img_printer(model, img)"
   ]
  },
  {
   "cell_type": "code",
   "execution_count": 62,
   "metadata": {},
   "outputs": [
    {
     "name": "stdout",
     "output_type": "stream",
     "text": [
      "(1, 26, 26, 3)\n",
      "(14, 14)\n"
     ]
    },
    {
     "name": "stderr",
     "output_type": "stream",
     "text": [
      "C:\\Users\\akumar47\\AppData\\Local\\Continuum\\anaconda3\\lib\\site-packages\\ipykernel\\__main__.py:5: UserWarning:\n",
      "\n",
      "Update your `Conv2D` call to the Keras 2 API: `Conv2D(1, (15, 15), input_shape=(28, 28, 3...)`\n",
      "\n"
     ]
    },
    {
     "data": {
      "image/png": "[encoded data removed]",
      "text/plain": [
       "<matplotlib.figure.Figure at 0x1eca550d908>"
      ]
     },
     "metadata": {},
     "output_type": "display_data"
    }
   ],
   "source": [
    "model = keras.models.Sequential()\n",
    "model.add(Convolution2D(1,    # number of filter layers\n",
    "                        15,    # y dimension of kernel (we're going for a 3x3 kernel)\n",
    "                        15,    # x dimension of kernel\n",
    "                        input_shape=img.shape))\n",
    "\n",
    "# Keras expects batches of images, so we have to add a dimension to trick it into being nice\n",
    "nice_img_printer(model, img)"
   ]
  },
  {
   "cell_type": "code",
   "execution_count": 65,
   "metadata": {},
   "outputs": [
    {
     "name": "stdout",
     "output_type": "stream",
     "text": [
      "(1, 26, 26, 3)\n",
      "(26, 26)\n"
     ]
    },
    {
     "name": "stderr",
     "output_type": "stream",
     "text": [
      "C:\\Users\\akumar47\\AppData\\Local\\Continuum\\anaconda3\\lib\\site-packages\\ipykernel\\__main__.py:5: UserWarning:\n",
      "\n",
      "Update your `Conv2D` call to the Keras 2 API: `Conv2D(1, (3, 3), input_shape=(28, 28, 3...)`\n",
      "\n"
     ]
    },
    {
     "data": {
      "image/png": "[encoded data removed]",
      "text/plain": [
       "<matplotlib.figure.Figure at 0x1eca52e8748>"
      ]
     },
     "metadata": {},
     "output_type": "display_data"
    }
   ],
   "source": [
    "model = keras.models.Sequential()\n",
    "model.add(Convolution2D(1,    # number of filter layers\n",
    "                        3,    # y dimension of kernel (we're going for a 3x3 kernel)\n",
    "                        3,    # x dimension of kernel\n",
    "                        input_shape=img.shape))\n",
    "# Lets add a new activation layer!\n",
    "model.add(Activation('relu'))\n",
    "\n",
    "nice_img_printer(model, img)"
   ]
  },
  {
   "cell_type": "code",
   "execution_count": 66,
   "metadata": {},
   "outputs": [
    {
     "name": "stdout",
     "output_type": "stream",
     "text": [
      "(1, 26, 26, 3)\n",
      "(26, 26)\n"
     ]
    },
    {
     "name": "stderr",
     "output_type": "stream",
     "text": [
      "C:\\Users\\akumar47\\AppData\\Local\\Continuum\\anaconda3\\lib\\site-packages\\ipykernel\\__main__.py:5: UserWarning:\n",
      "\n",
      "Update your `Conv2D` call to the Keras 2 API: `Conv2D(1, (3, 3), input_shape=(28, 28, 3...)`\n",
      "\n"
     ]
    },
    {
     "data": {
      "image/png": "[encoded data removed]",
      "text/plain": [
       "<matplotlib.figure.Figure at 0x1eca5200390>"
      ]
     },
     "metadata": {},
     "output_type": "display_data"
    }
   ],
   "source": [
    "model = keras.models.Sequential()\n",
    "model.add(Convolution2D(1,    # number of filter layers\n",
    "                        3,    # y dimension of kernel (we're going for a 3x3 kernel)\n",
    "                        3,    # x dimension of kernel\n",
    "                        input_shape=img.shape))\n",
    "# Lets add a new activation layer!\n",
    "model.add(Activation('sigmoid'))\n",
    "\n",
    "nice_img_printer(model, img)"
   ]
  },
  {
   "cell_type": "code",
   "execution_count": 69,
   "metadata": {},
   "outputs": [
    {
     "name": "stdout",
     "output_type": "stream",
     "text": [
      "(1, 26, 26, 3)\n",
      "(13, 13)\n"
     ]
    },
    {
     "name": "stderr",
     "output_type": "stream",
     "text": [
      "C:\\Users\\akumar47\\AppData\\Local\\Continuum\\anaconda3\\lib\\site-packages\\ipykernel\\__main__.py:5: UserWarning:\n",
      "\n",
      "Update your `Conv2D` call to the Keras 2 API: `Conv2D(1, (3, 3), input_shape=(28, 28, 3...)`\n",
      "\n"
     ]
    },
    {
     "data": {
      "image/png": "[encoded data removed]",
      "text/plain": [
       "<matplotlib.figure.Figure at 0x1eca5c80518>"
      ]
     },
     "metadata": {},
     "output_type": "display_data"
    }
   ],
   "source": [
    "model = keras.models.Sequential()\n",
    "model.add(Convolution2D(1,    # number of filter layers\n",
    "                        3,    # y dimension of kernel (we're going for a 3x3 kernel)\n",
    "                        3,    # x dimension of kernel\n",
    "                        input_shape=img.shape))\n",
    "# Lets add a new max pooling layer!\n",
    "model.add(MaxPooling2D(pool_size=(2,2)))\n",
    "\n",
    "nice_img_printer(model, img)"
   ]
  },
  {
   "cell_type": "code",
   "execution_count": 70,
   "metadata": {},
   "outputs": [
    {
     "name": "stdout",
     "output_type": "stream",
     "text": [
      "(1, 26, 26, 3)\n",
      "(6, 6)\n"
     ]
    },
    {
     "name": "stderr",
     "output_type": "stream",
     "text": [
      "C:\\Users\\akumar47\\AppData\\Local\\Continuum\\anaconda3\\lib\\site-packages\\ipykernel\\__main__.py:5: UserWarning:\n",
      "\n",
      "Update your `Conv2D` call to the Keras 2 API: `Conv2D(1, (3, 3), input_shape=(28, 28, 3...)`\n",
      "\n"
     ]
    },
    {
     "data": {
      "image/png": "[encoded data removed]",
      "text/plain": [
       "<matplotlib.figure.Figure at 0x1eca5d5da58>"
      ]
     },
     "metadata": {},
     "output_type": "display_data"
    }
   ],
   "source": [
    "model = keras.models.Sequential()\n",
    "model.add(Convolution2D(1,    # number of filter layers\n",
    "                        3,    # y dimension of kernel (we're going for a 3x3 kernel)\n",
    "                        3,    # x dimension of kernel\n",
    "                        input_shape=img.shape))\n",
    "# Lets add a new max pooling layer!\n",
    "model.add(MaxPooling2D(pool_size=(4,4)))\n",
    "\n",
    "nice_img_printer(model, img)"
   ]
  },
  {
   "cell_type": "code",
   "execution_count": 73,
   "metadata": {},
   "outputs": [
    {
     "name": "stdout",
     "output_type": "stream",
     "text": [
      "(1, 26, 26, 3)\n",
      "(13, 13)\n"
     ]
    },
    {
     "name": "stderr",
     "output_type": "stream",
     "text": [
      "C:\\Users\\akumar47\\AppData\\Local\\Continuum\\anaconda3\\lib\\site-packages\\ipykernel\\__main__.py:5: UserWarning:\n",
      "\n",
      "Update your `Conv2D` call to the Keras 2 API: `Conv2D(1, (3, 3), input_shape=(28, 28, 3...)`\n",
      "\n"
     ]
    },
    {
     "data": {
      "image/png": "[encoded data removed]",
      "text/plain": [
       "<matplotlib.figure.Figure at 0x1eca6e0e780>"
      ]
     },
     "metadata": {},
     "output_type": "display_data"
    }
   ],
   "source": [
    "model = keras.models.Sequential()\n",
    "model.add(Convolution2D(1,    # number of filter layers\n",
    "                        3,    # y dimension of kernel (we're going for a 3x3 kernel)\n",
    "                        3,    # x dimension of kernel\n",
    "                        input_shape=img.shape))\n",
    "# Lets add a new max pooling layer!\n",
    "model.add(AveragePooling2D(pool_size=(2,2)))\n",
    "\n",
    "nice_img_printer(model, img)"
   ]
  },
  {
   "cell_type": "code",
   "execution_count": 74,
   "metadata": {},
   "outputs": [
    {
     "name": "stdout",
     "output_type": "stream",
     "text": [
      "(1, 26, 26, 3)\n",
      "(6, 6)\n"
     ]
    },
    {
     "name": "stderr",
     "output_type": "stream",
     "text": [
      "C:\\Users\\akumar47\\AppData\\Local\\Continuum\\anaconda3\\lib\\site-packages\\ipykernel\\__main__.py:5: UserWarning:\n",
      "\n",
      "Update your `Conv2D` call to the Keras 2 API: `Conv2D(1, (3, 3), input_shape=(28, 28, 3...)`\n",
      "\n"
     ]
    },
    {
     "data": {
      "image/png": "[encoded data removed]",
      "text/plain": [
       "<matplotlib.figure.Figure at 0x1eca6ede400>"
      ]
     },
     "metadata": {},
     "output_type": "display_data"
    }
   ],
   "source": [
    "model = keras.models.Sequential()\n",
    "model.add(Convolution2D(1,    # number of filter layers\n",
    "                        3,    # y dimension of kernel (we're going for a 3x3 kernel)\n",
    "                        3,    # x dimension of kernel\n",
    "                        input_shape=img.shape))\n",
    "# Lets add a new max pooling layer!\n",
    "model.add(AveragePooling2D(pool_size=(4,4)))\n",
    "\n",
    "nice_img_printer(model, img)"
   ]
  },
  {
   "cell_type": "code",
   "execution_count": null,
   "metadata": {
    "collapsed": true
   },
   "outputs": [],
   "source": []
  }
 ],
 "metadata": {
  "kernelspec": {
   "display_name": "Python [conda root]",
   "language": "python",
   "name": "conda-root-py"
  },
  "language_info": {
   "codemirror_mode": {
    "name": "ipython",
    "version": 3
   },
   "file_extension": ".py",
   "mimetype": "text/x-python",
   "name": "python",
   "nbconvert_exporter": "python",
   "pygments_lexer": "ipython3",
   "version": "3.6.2"
  }
 },
 "nbformat": 4,
 "nbformat_minor": 2
}
