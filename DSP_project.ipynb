{
 "cells": [
  {
   "cell_type": "code",
   "execution_count": 1,
   "metadata": {
    "collapsed": true
   },
   "outputs": [],
   "source": [
    "INPUT_PATH = './input/'"
   ]
  },
  {
   "cell_type": "code",
   "execution_count": 2,
   "metadata": {},
   "outputs": [
    {
     "name": "stderr",
     "output_type": "stream",
     "text": [
      "Using TensorFlow backend.\n"
     ]
    }
   ],
   "source": [
    "import numpy as np # linear algebra\n",
    "import pandas as pd # data processing, CSV file I/O (e.g. pd.read_csv)\n",
    "import keras\n",
    "from keras.utils import np_utils\n",
    "from keras.layers.core import Dense, Dropout\n",
    "from keras.layers import Convolution2D, MaxPooling2D, Flatten\n",
    "from keras.utils import plot_model, np_utils\n",
    "from sklearn.model_selection import train_test_split\n",
    "\n",
    "%matplotlib inline\n",
    "import matplotlib.pyplot as plt\n",
    "import matplotlib.cm as cm\n",
    "import math\n",
    "from scipy import ndimage"
   ]
  },
  {
   "cell_type": "code",
   "execution_count": 3,
   "metadata": {},
   "outputs": [
    {
     "data": {
      "text/html": [
       "<div>\n",
       "<style>\n",
       "    .dataframe thead tr:only-child th {\n",
       "        text-align: right;\n",
       "    }\n",
       "\n",
       "    .dataframe thead th {\n",
       "        text-align: left;\n",
       "    }\n",
       "\n",
       "    .dataframe tbody tr th {\n",
       "        vertical-align: top;\n",
       "    }\n",
       "</style>\n",
       "<table border=\"1\" class=\"dataframe\">\n",
       "  <thead>\n",
       "    <tr style=\"text-align: right;\">\n",
       "      <th></th>\n",
       "      <th>label</th>\n",
       "      <th>pixel0</th>\n",
       "      <th>pixel1</th>\n",
       "      <th>pixel2</th>\n",
       "      <th>pixel3</th>\n",
       "      <th>pixel4</th>\n",
       "      <th>pixel5</th>\n",
       "      <th>pixel6</th>\n",
       "      <th>pixel7</th>\n",
       "      <th>pixel8</th>\n",
       "      <th>...</th>\n",
       "      <th>pixel774</th>\n",
       "      <th>pixel775</th>\n",
       "      <th>pixel776</th>\n",
       "      <th>pixel777</th>\n",
       "      <th>pixel778</th>\n",
       "      <th>pixel779</th>\n",
       "      <th>pixel780</th>\n",
       "      <th>pixel781</th>\n",
       "      <th>pixel782</th>\n",
       "      <th>pixel783</th>\n",
       "    </tr>\n",
       "  </thead>\n",
       "  <tbody>\n",
       "    <tr>\n",
       "      <th>10799</th>\n",
       "      <td>6</td>\n",
       "      <td>0</td>\n",
       "      <td>0</td>\n",
       "      <td>0</td>\n",
       "      <td>0</td>\n",
       "      <td>0</td>\n",
       "      <td>0</td>\n",
       "      <td>0</td>\n",
       "      <td>0</td>\n",
       "      <td>0</td>\n",
       "      <td>...</td>\n",
       "      <td>0</td>\n",
       "      <td>0</td>\n",
       "      <td>0</td>\n",
       "      <td>0</td>\n",
       "      <td>0</td>\n",
       "      <td>0</td>\n",
       "      <td>0</td>\n",
       "      <td>0</td>\n",
       "      <td>0</td>\n",
       "      <td>0</td>\n",
       "    </tr>\n",
       "    <tr>\n",
       "      <th>30753</th>\n",
       "      <td>4</td>\n",
       "      <td>0</td>\n",
       "      <td>0</td>\n",
       "      <td>0</td>\n",
       "      <td>0</td>\n",
       "      <td>0</td>\n",
       "      <td>0</td>\n",
       "      <td>0</td>\n",
       "      <td>0</td>\n",
       "      <td>0</td>\n",
       "      <td>...</td>\n",
       "      <td>0</td>\n",
       "      <td>0</td>\n",
       "      <td>0</td>\n",
       "      <td>0</td>\n",
       "      <td>0</td>\n",
       "      <td>0</td>\n",
       "      <td>0</td>\n",
       "      <td>0</td>\n",
       "      <td>0</td>\n",
       "      <td>0</td>\n",
       "    </tr>\n",
       "  </tbody>\n",
       "</table>\n",
       "<p>2 rows × 785 columns</p>\n",
       "</div>"
      ],
      "text/plain": [
       "       label  pixel0  pixel1  pixel2  pixel3  pixel4  pixel5  pixel6  pixel7  \\\n",
       "10799      6       0       0       0       0       0       0       0       0   \n",
       "30753      4       0       0       0       0       0       0       0       0   \n",
       "\n",
       "       pixel8    ...     pixel774  pixel775  pixel776  pixel777  pixel778  \\\n",
       "10799       0    ...            0         0         0         0         0   \n",
       "30753       0    ...            0         0         0         0         0   \n",
       "\n",
       "       pixel779  pixel780  pixel781  pixel782  pixel783  \n",
       "10799         0         0         0         0         0  \n",
       "30753         0         0         0         0         0  \n",
       "\n",
       "[2 rows x 785 columns]"
      ]
     },
     "execution_count": 3,
     "metadata": {},
     "output_type": "execute_result"
    }
   ],
   "source": [
    "train = pd.read_csv('train.csv')\n",
    "train.sample(2)"
   ]
  },
  {
   "cell_type": "code",
   "execution_count": 4,
   "metadata": {
    "collapsed": true
   },
   "outputs": [],
   "source": [
    "train_y = keras.utils.to_categorical(train.label.values)"
   ]
  },
  {
   "cell_type": "code",
   "execution_count": 5,
   "metadata": {},
   "outputs": [
    {
     "data": {
      "text/plain": [
       "(42000, 10)"
      ]
     },
     "execution_count": 5,
     "metadata": {},
     "output_type": "execute_result"
    }
   ],
   "source": [
    "train_y.shape"
   ]
  },
  {
   "cell_type": "code",
   "execution_count": 6,
   "metadata": {
    "collapsed": true
   },
   "outputs": [],
   "source": [
    "train_x = train.drop('label', axis=1).values"
   ]
  },
  {
   "cell_type": "code",
   "execution_count": 7,
   "metadata": {
    "collapsed": true
   },
   "outputs": [],
   "source": [
    "def normalize(array):\n",
    "    # Normalize the data\n",
    "    array = array.astype(np.float32) / 255.0 \n",
    "    a = array-array.mean(axis=1,keepdims=True)\n",
    "    a = a / array.std(axis = 1,keepdims = True)\n",
    "    return a\n",
    "\n",
    "train_x = normalize(train_x)"
   ]
  },
  {
   "cell_type": "code",
   "execution_count": 8,
   "metadata": {
    "collapsed": true
   },
   "outputs": [],
   "source": [
    "train_x = train_x.reshape(train_x.shape[0],28,28,1)"
   ]
  },
  {
   "cell_type": "code",
   "execution_count": 9,
   "metadata": {
    "collapsed": true
   },
   "outputs": [],
   "source": [
    "train_x, test_x, train_y, test_y = train_test_split(train_x, train_y, test_size=0.33, random_state=777)"
   ]
  },
  {
   "cell_type": "code",
   "execution_count": 10,
   "metadata": {},
   "outputs": [
    {
     "data": {
      "text/plain": [
       "(28140, 28, 28, 1)"
      ]
     },
     "execution_count": 10,
     "metadata": {},
     "output_type": "execute_result"
    }
   ],
   "source": [
    "train_x.shape"
   ]
  },
  {
   "cell_type": "code",
   "execution_count": 11,
   "metadata": {},
   "outputs": [
    {
     "data": {
      "image/png": "[encoded data removed]",
      "text/plain": [
       "<matplotlib.figure.Figure at 0x20fcf864a90>"
      ]
     },
     "metadata": {},
     "output_type": "display_data"
    }
   ],
   "source": [
    "# display image\n",
    "def display(img):\n",
    "    \n",
    "    # (4096) => (64,64)\n",
    "    one_image = img.reshape(28,28)\n",
    "    \n",
    "    plt.axis('off')\n",
    "    plt.imshow(one_image, cmap=cm.binary)\n",
    "\n",
    "\n",
    "display(train_x[10])"
   ]
  },
  {
   "cell_type": "code",
   "execution_count": 12,
   "metadata": {},
   "outputs": [
    {
     "name": "stderr",
     "output_type": "stream",
     "text": [
      "C:\\Users\\akumar47\\AppData\\Local\\Continuum\\anaconda3\\lib\\site-packages\\ipykernel\\__main__.py:3: UserWarning: Update your `Conv2D` call to the Keras 2 API: `Conv2D(32, (3, 3), activation=\"relu\", input_shape=(28, 28, 1...)`\n",
      "  app.launch_new_instance()\n",
      "C:\\Users\\akumar47\\AppData\\Local\\Continuum\\anaconda3\\lib\\site-packages\\ipykernel\\__main__.py:5: UserWarning: Update your `Conv2D` call to the Keras 2 API: `Conv2D(32, (3, 3), activation=\"relu\")`\n"
     ]
    }
   ],
   "source": [
    "model = keras.models.Sequential()\n",
    "# Hidden layer of 512 neurons\n",
    "Layer1 = Convolution2D(32,3,3, activation='relu', input_shape=(28,28,1,))\n",
    "model.add(Layer1)\n",
    "model.add(Convolution2D(32,3,3, activation='relu'))\n",
    "model.add(MaxPooling2D(pool_size=(2,2)))\n",
    "model.add(Dropout(0.25))\n",
    "model.add(Flatten())\n",
    "model.add(Dense(128, activation='relu'))\n",
    "model.add(Dropout(0.25))\n",
    "model.add(Dense(10, activation='softmax'))\n"
   ]
  },
  {
   "cell_type": "code",
   "execution_count": 13,
   "metadata": {},
   "outputs": [
    {
     "name": "stdout",
     "output_type": "stream",
     "text": [
      "_________________________________________________________________\n",
      "Layer (type)                 Output Shape              Param #   \n",
      "=================================================================\n",
      "conv2d_1 (Conv2D)            (None, 26, 26, 32)        320       \n",
      "_________________________________________________________________\n",
      "conv2d_2 (Conv2D)            (None, 24, 24, 32)        9248      \n",
      "_________________________________________________________________\n",
      "max_pooling2d_1 (MaxPooling2 (None, 12, 12, 32)        0         \n",
      "_________________________________________________________________\n",
      "dropout_1 (Dropout)          (None, 12, 12, 32)        0         \n",
      "_________________________________________________________________\n",
      "flatten_1 (Flatten)          (None, 4608)              0         \n",
      "_________________________________________________________________\n",
      "dense_1 (Dense)              (None, 128)               589952    \n",
      "_________________________________________________________________\n",
      "dropout_2 (Dropout)          (None, 128)               0         \n",
      "_________________________________________________________________\n",
      "dense_2 (Dense)              (None, 10)                1290      \n",
      "=================================================================\n",
      "Total params: 600,810\n",
      "Trainable params: 600,810\n",
      "Non-trainable params: 0\n",
      "_________________________________________________________________\n"
     ]
    }
   ],
   "source": [
    "\n",
    "model.summary()\n",
    "\n",
    "model.compile(loss='categorical_crossentropy', optimizer='adam',metrics=['accuracy'])"
   ]
  },
  {
   "cell_type": "code",
   "execution_count": 14,
   "metadata": {},
   "outputs": [
    {
     "name": "stdout",
     "output_type": "stream",
     "text": [
      "Train on 28140 samples, validate on 13860 samples\n",
      "Epoch 1/30\n",
      "28140/28140 [==============================] - 49s - loss: 0.2004 - acc: 0.9384 - val_loss: 0.0657 - val_acc: 0.9803\n",
      "Epoch 2/30\n",
      "28140/28140 [==============================] - 51s - loss: 0.0674 - acc: 0.9785 - val_loss: 0.0531 - val_acc: 0.9848\n",
      "Epoch 3/30\n",
      "28140/28140 [==============================] - 50s - loss: 0.0510 - acc: 0.9837 - val_loss: 0.0466 - val_acc: 0.9863\n",
      "Epoch 4/30\n",
      "28140/28140 [==============================] - 50s - loss: 0.0409 - acc: 0.9870 - val_loss: 0.0505 - val_acc: 0.9861\n",
      "Epoch 5/30\n",
      "28140/28140 [==============================] - 47s - loss: 0.0325 - acc: 0.9899 - val_loss: 0.0455 - val_acc: 0.9878\n",
      "Epoch 6/30\n",
      "28140/28140 [==============================] - 46s - loss: 0.0260 - acc: 0.9917 - val_loss: 0.0542 - val_acc: 0.9865\n",
      "Epoch 7/30\n",
      "28140/28140 [==============================] - 47s - loss: 0.0276 - acc: 0.9909 - val_loss: 0.0434 - val_acc: 0.9888\n",
      "Epoch 8/30\n",
      "28140/28140 [==============================] - 47s - loss: 0.0218 - acc: 0.9927 - val_loss: 0.0516 - val_acc: 0.9871\n",
      "Epoch 9/30\n",
      "28140/28140 [==============================] - 48s - loss: 0.0174 - acc: 0.9946 - val_loss: 0.0466 - val_acc: 0.9887\n",
      "Epoch 10/30\n",
      "28140/28140 [==============================] - 47s - loss: 0.0183 - acc: 0.9939 - val_loss: 0.0573 - val_acc: 0.9875\n",
      "Epoch 11/30\n",
      "28140/28140 [==============================] - 47s - loss: 0.0178 - acc: 0.9946 - val_loss: 0.0475 - val_acc: 0.9898\n",
      "Epoch 12/30\n",
      "28140/28140 [==============================] - 47s - loss: 0.0153 - acc: 0.9950 - val_loss: 0.0473 - val_acc: 0.9898\n",
      "Epoch 13/30\n",
      "28140/28140 [==============================] - 48s - loss: 0.0118 - acc: 0.9958 - val_loss: 0.0590 - val_acc: 0.9870\n",
      "Epoch 14/30\n",
      "28140/28140 [==============================] - 46s - loss: 0.0127 - acc: 0.9957 - val_loss: 0.0559 - val_acc: 0.9893\n",
      "Epoch 15/30\n",
      "28140/28140 [==============================] - 47s - loss: 0.0134 - acc: 0.9956 - val_loss: 0.0484 - val_acc: 0.9895\n",
      "Epoch 16/30\n",
      "28140/28140 [==============================] - 46s - loss: 0.0138 - acc: 0.9954 - val_loss: 0.0542 - val_acc: 0.9893\n",
      "Epoch 17/30\n",
      "28140/28140 [==============================] - 47s - loss: 0.0108 - acc: 0.9965 - val_loss: 0.0526 - val_acc: 0.9898\n",
      "Epoch 18/30\n",
      "28140/28140 [==============================] - 46s - loss: 0.0115 - acc: 0.9960 - val_loss: 0.0568 - val_acc: 0.9894\n",
      "Epoch 19/30\n",
      "28140/28140 [==============================] - 46s - loss: 0.0110 - acc: 0.9965 - val_loss: 0.0703 - val_acc: 0.9882\n",
      "Epoch 20/30\n",
      "28140/28140 [==============================] - 46s - loss: 0.0092 - acc: 0.9973 - val_loss: 0.0573 - val_acc: 0.9891\n",
      "Epoch 21/30\n",
      "28140/28140 [==============================] - 47s - loss: 0.0113 - acc: 0.9966 - val_loss: 0.0617 - val_acc: 0.9886\n",
      "Epoch 22/30\n",
      "28140/28140 [==============================] - 47s - loss: 0.0101 - acc: 0.9966 - val_loss: 0.0564 - val_acc: 0.9904\n",
      "Epoch 23/30\n",
      "28140/28140 [==============================] - 46s - loss: 0.0117 - acc: 0.9964 - val_loss: 0.0586 - val_acc: 0.9898\n",
      "Epoch 24/30\n",
      "28140/28140 [==============================] - 47s - loss: 0.0088 - acc: 0.9972 - val_loss: 0.0635 - val_acc: 0.9894\n",
      "Epoch 25/30\n",
      "28140/28140 [==============================] - 46s - loss: 0.0080 - acc: 0.9973 - val_loss: 0.0763 - val_acc: 0.9885\n",
      "Epoch 26/30\n",
      "28140/28140 [==============================] - 47s - loss: 0.0095 - acc: 0.9975 - val_loss: 0.0582 - val_acc: 0.9900\n",
      "Epoch 27/30\n",
      "28140/28140 [==============================] - 46s - loss: 0.0089 - acc: 0.9969 - val_loss: 0.0584 - val_acc: 0.9900\n",
      "Epoch 28/30\n",
      "28140/28140 [==============================] - 46s - loss: 0.0081 - acc: 0.9974 - val_loss: 0.0718 - val_acc: 0.9888\n",
      "Epoch 29/30\n",
      "28140/28140 [==============================] - 46s - loss: 0.0084 - acc: 0.9976 - val_loss: 0.0662 - val_acc: 0.9897\n",
      "Epoch 30/30\n",
      "28140/28140 [==============================] - 47s - loss: 0.0086 - acc: 0.9973 - val_loss: 0.0661 - val_acc: 0.9894\n"
     ]
    }
   ],
   "source": [
    "history = model.fit(train_x, train_y, batch_size=32, epochs=, validation_data=(test_x, test_y))"
   ]
  },
  {
   "cell_type": "code",
   "execution_count": 15,
   "metadata": {},
   "outputs": [
    {
     "name": "stdout",
     "output_type": "stream",
     "text": [
      "13760/13860 [============================>.] - ETA: 0sTest loss: 0.0661408671818\n",
      "Test accuracy: 0.989393939394\n"
     ]
    }
   ],
   "source": [
    "score = model.evaluate(test_x, test_y, verbose=1)\n",
    "print('Test loss:', score[0])\n",
    "print('Test accuracy:', score[1])"
   ]
  },
  {
   "cell_type": "code",
   "execution_count": 16,
   "metadata": {},
   "outputs": [
    {
     "data": {
      "image/png": "[encoded data removed]",
      "text/plain": [
       "<matplotlib.figure.Figure at 0x20f80f3c9b0>"
      ]
     },
     "metadata": {},
     "output_type": "display_data"
    },
    {
     "data": {
      "image/png": "[encoded data removed]",
      "text/plain": [
       "<matplotlib.figure.Figure at 0x20f8124e6a0>"
      ]
     },
     "metadata": {},
     "output_type": "display_data"
    }
   ],
   "source": [
    "# summarize history for accuracy\n",
    "plt.plot(history.history['acc'])\n",
    "plt.plot(history.history['val_acc'])\n",
    "plt.title('model accuracy')\n",
    "plt.ylabel('accuracy')\n",
    "plt.xlabel('epoch')\n",
    "plt.legend(['train', 'test'], loc='upper left')\n",
    "plt.show()\n",
    "# summarize history for loss\n",
    "plt.plot(history.history['loss'])\n",
    "plt.plot(history.history['val_loss'])\n",
    "plt.title('model loss')\n",
    "plt.ylabel('loss')\n",
    "plt.xlabel('epoch')\n",
    "plt.legend(['train', 'test'], loc='upper left')\n",
    "plt.show()"
   ]
  },
  {
   "cell_type": "code",
   "execution_count": 16,
   "metadata": {},
   "outputs": [
    {
     "name": "stderr",
     "output_type": "stream",
     "text": [
      "C:\\Users\\akumar47\\AppData\\Local\\Continuum\\anaconda3\\lib\\site-packages\\ipykernel\\__main__.py:4: UserWarning: Update your `Conv2D` call to the Keras 2 API: `Conv2D(32, (3, 3), activation=\"relu\", input_shape=(28, 28, 1...)`\n",
      "C:\\Users\\akumar47\\AppData\\Local\\Continuum\\anaconda3\\lib\\site-packages\\ipykernel\\__main__.py:5: UserWarning: Update your `Conv2D` call to the Keras 2 API: `Conv2D(32, (3, 3), activation=\"relu\")`\n"
     ]
    },
    {
     "name": "stdout",
     "output_type": "stream",
     "text": [
      "Epoch 1/10\n",
      "42000/42000 [==============================] - 72s - loss: 0.1581 - acc: 0.9506    \n",
      "Epoch 2/10\n",
      "42000/42000 [==============================] - 71s - loss: 0.0624 - acc: 0.9810    \n",
      "Epoch 3/10\n",
      "42000/42000 [==============================] - 69s - loss: 0.0444 - acc: 0.9859    \n",
      "Epoch 4/10\n",
      "42000/42000 [==============================] - 68s - loss: 0.0351 - acc: 0.9884    \n",
      "Epoch 5/10\n",
      "42000/42000 [==============================] - 64s - loss: 0.0281 - acc: 0.9906    \n",
      "Epoch 6/10\n",
      "42000/42000 [==============================] - 71s - loss: 0.0259 - acc: 0.9913    \n",
      "Epoch 7/10\n",
      "42000/42000 [==============================] - 73s - loss: 0.0217 - acc: 0.9927    \n",
      "Epoch 8/10\n",
      "42000/42000 [==============================] - 72s - loss: 0.0192 - acc: 0.9938    \n",
      "Epoch 9/10\n",
      "42000/42000 [==============================] - 74s - loss: 0.0212 - acc: 0.9933    \n",
      "Epoch 10/10\n",
      "42000/42000 [==============================] - 75s - loss: 0.0132 - acc: 0.9955    \n"
     ]
    },
    {
     "data": {
      "text/plain": [
       "<keras.callbacks.History at 0x2341ab6fc18>"
      ]
     },
     "execution_count": 16,
     "metadata": {},
     "output_type": "execute_result"
    }
   ],
   "source": [
    "train = pd.read_csv('train.csv')\n",
    "train_y = keras.utils.to_categorical(train.label.values)\n",
    "train_x = train.drop('label', axis=1).values\n",
    "train_x = normalize(train_x)\n",
    "train_x = train_x.reshape(train_x.shape[0],28,28,1)\n",
    "model = get_model()\n",
    "model.compile(loss='categorical_crossentropy', optimizer='adam',metrics=['accuracy'])\n",
    "model.fit(train_x, train_y, batch_size=32, epochs=10)"
   ]
  },
  {
   "cell_type": "code",
   "execution_count": 67,
   "metadata": {},
   "outputs": [
    {
     "name": "stdout",
     "output_type": "stream",
     "text": [
      "(28, 28)\n"
     ]
    },
    {
     "data": {
      "image/png": "[encoded data removed]",
      "text/plain": [
       "<matplotlib.figure.Figure at 0x20f810bd9e8>"
      ]
     },
     "metadata": {},
     "output_type": "display_data"
    }
   ],
   "source": [
    "from scipy import misc\n",
    "import glob\n",
    "a = np.zeros(shape=(1,784))\n",
    "for image_path in glob.glob(\"C:\\\\Users\\\\akumar47\\\\Dropbox\\\\Courses\\\\ECSE 512 - DSP\\\\Project_\\\\write images\\\\*.png\"):\n",
    "    image = np.dot(misc.imread(image_path)[...,:3], [0.299, 0.587, 0.114])\n",
    "    a =np.concatenate((a,255.0- np.reshape(image,(1,784))))\n",
    "    print (image.shape)\n",
    "a=a[1:,:]\n",
    "\n",
    "\n",
    "df = pd.DataFrame(a)\n",
    "df.to_csv(\"./test.csv\",index=False)\n",
    "#a.tofile('./test.csv',sep=',')\n",
    "display(a[0])\n",
    "\n",
    "\n"
   ]
  },
  {
   "cell_type": "code",
   "execution_count": 68,
   "metadata": {
    "collapsed": true
   },
   "outputs": [],
   "source": [
    "def getBestShift(img):\n",
    "    cy,cx = ndimage.measurements.center_of_mass(img)\n",
    "\n",
    "    rows,cols = img.shape\n",
    "    shiftx = np.round(cols/2.0-cx).astype(int)\n",
    "    shifty = np.round(rows/2.0-cy).astype(int)\n",
    "\n",
    "    return shiftx,shifty\n",
    "\n",
    "def shift(img,sx,sy):\n",
    "    rows,cols = img.shape\n",
    "    M = np.float32([[1,0,sx],[0,1,sy]])\n",
    "    shifted = cv2.warpAffine(img,M,(cols,rows))\n",
    "    return shifted\n"
   ]
  },
  {
   "cell_type": "code",
   "execution_count": 69,
   "metadata": {
    "collapsed": true
   },
   "outputs": [],
   "source": [
    "\n",
    "# create an array where we can store our 4 pictures\n",
    "images = np.zeros((10,784))\n",
    "# and the correct values\n",
    "correct_vals = np.zeros((4,10))\n",
    "import cv2\n",
    "a = np.zeros(shape=(1,784))\n",
    "# we want to test our images which you saw at the top of this page\n",
    "i = 0\n",
    "for image in glob.glob(\"C:\\\\Users\\\\akumar47\\\\Dropbox\\\\Courses\\\\ECSE 512 - DSP\\\\Project_\\\\write images\\\\*.png\"):\n",
    "    # read the image\n",
    "    gray = cv2.imread(image, 0)\n",
    "    # resize the images and invert it (black background)\n",
    "    (thresh, gray) = cv2.threshold(gray, 128, 255, cv2.THRESH_BINARY | cv2.THRESH_OTSU)\n",
    "    gray = cv2.resize(255-gray, (28, 28))\n",
    "    \n",
    "    #fitting to a 20-20 box\n",
    "    while np.sum(gray[0]) == 0:\n",
    "        gray = gray[1:]\n",
    "\n",
    "    while np.sum(gray[:,0]) == 0:\n",
    "        gray = np.delete(gray,0,1)\n",
    "\n",
    "    while np.sum(gray[-1]) == 0:\n",
    "        gray = gray[:-1]\n",
    "\n",
    "    while np.sum(gray[:,-1]) == 0:\n",
    "        gray = np.delete(gray,-1,1)\n",
    "\n",
    "    rows,cols = gray.shape\n",
    "    \n",
    "    if rows > cols:\n",
    "        factor = 20.0/rows\n",
    "        rows = 20\n",
    "        cols = int(round(cols*factor))\n",
    "        gray = cv2.resize(gray, (cols,rows))\n",
    "    else:\n",
    "        factor = 20.0/cols\n",
    "        cols = 20\n",
    "        rows = int(round(rows*factor))\n",
    "        gray = cv2.resize(gray, (cols, rows))\n",
    "        \n",
    "    colsPadding = (int(math.ceil((28-cols)/2.0)),int(math.floor((28-cols)/2.0)))\n",
    "    rowsPadding = (int(math.ceil((28-rows)/2.0)),int(math.floor((28-rows)/2.0)))\n",
    "    gray = np.lib.pad(gray,(rowsPadding,colsPadding),'constant')\n",
    "    \n",
    "    shiftx,shifty = getBestShift(gray)\n",
    "    shifted = shift(gray,shiftx,shifty)\n",
    "    gray = shifted\n",
    "\n",
    "    a = np.concatenate((a,np.reshape(np.array(gray),(1,784))))\n",
    "    # save the processed images\n",
    "    cv2.imwrite(\"./pro-img/image_\"+str(i)+\".png\", gray)\n",
    "    \n",
    "    \"\"\"\n",
    "    all images in the training set have an range from 0-1\n",
    "    and not from 0-255 so we divide our flatten images\n",
    "    (a one dimensional vector with our 784 pixels)\n",
    "    to use the same 0-1 based range\n",
    "    \"\"\"\n",
    "    flatten = gray.flatten() / 255.0\n",
    "    \"\"\"\n",
    "    we need to store the flatten image and generate\n",
    "    the correct_vals array\n",
    "    correct_val for the first digit (9) would be\n",
    "    [0,0,0,0,0,0,0,0,0,1]\n",
    "    \"\"\"\n",
    "    #images[i] = flatten\n",
    "    #correct_val = np.zeros((10))\n",
    "    #correct_val[i] = 1\n",
    "    #correct_vals[i] = correct_val\n",
    "    i += 1\n",
    "\n",
    "a=a[1:,:]\n",
    "df = pd.DataFrame(a)\n",
    "df.to_csv(\"./test.csv\",index=False)    \n"
   ]
  },
  {
   "cell_type": "code",
   "execution_count": 70,
   "metadata": {},
   "outputs": [
    {
     "data": {
      "image/png": "[encoded data removed]",
      "text/plain": [
       "<matplotlib.figure.Figure at 0x20f817aa438>"
      ]
     },
     "metadata": {},
     "output_type": "display_data"
    }
   ],
   "source": [
    "test = pd.read_csv('test.csv')\n",
    "test_x = normalize(test.values)\n",
    "# output image\n",
    "display(test_x[0])\n",
    "test_x = test_x.reshape(test_x.shape[0],28,28,1)\n",
    "     \n",
    "\n",
    "predictions = model.predict(test_x)"
   ]
  },
  {
   "cell_type": "code",
   "execution_count": 71,
   "metadata": {
    "collapsed": true
   },
   "outputs": [],
   "source": [
    "import time\n",
    "\n",
    "# select the indix with the maximum probability\n",
    "predictions = np.argmax(predictions,axis = 1)\n",
    "predictions = pd.Series(predictions,name=\"Label\")\n",
    "\n",
    "submission = pd.concat([pd.Series(range(1,len(a)),name = \"ImageId\"),predictions],axis = 1)\n",
    "\n",
    "submission.to_csv('prediction.acc_' + str(score[1]) + '.csv', index=False)"
   ]
  },
  {
   "cell_type": "code",
   "execution_count": 72,
   "metadata": {},
   "outputs": [
    {
     "data": {
      "text/plain": [
       "0    3\n",
       "Name: Label, dtype: int64"
      ]
     },
     "execution_count": 72,
     "metadata": {},
     "output_type": "execute_result"
    }
   ],
   "source": [
    "predictions"
   ]
  },
  {
   "cell_type": "code",
   "execution_count": 73,
   "metadata": {},
   "outputs": [
    {
     "data": {
      "text/plain": [
       "0"
      ]
     },
     "execution_count": 73,
     "metadata": {},
     "output_type": "execute_result"
    }
   ],
   "source": [
    "np.argmax(predictions,axis = 1)"
   ]
  },
  {
   "cell_type": "code",
   "execution_count": 74,
   "metadata": {},
   "outputs": [
    {
     "name": "stdout",
     "output_type": "stream",
     "text": [
      "1/1 [==============================] - 0s\n"
     ]
    }
   ],
   "source": [
    "proba = model.predict_proba(test_x, batch_size=100)"
   ]
  },
  {
   "cell_type": "code",
   "execution_count": 75,
   "metadata": {},
   "outputs": [
    {
     "data": {
      "text/plain": [
       "[4.9913894e-18,\n",
       " 2.2419269e-10,\n",
       " 0.0052604363,\n",
       " 0.99463212,\n",
       " 9.7116019e-19,\n",
       " 1.452569e-14,\n",
       " 1.2509119e-16,\n",
       " 8.2476129e-07,\n",
       " 0.00010656352,\n",
       " 1.1259787e-15]"
      ]
     },
     "execution_count": 75,
     "metadata": {},
     "output_type": "execute_result"
    }
   ],
   "source": [
    "list(proba[0])"
   ]
  },
  {
   "cell_type": "code",
   "execution_count": 76,
   "metadata": {},
   "outputs": [
    {
     "data": {
      "text/plain": [
       "<matplotlib.text.Text at 0x20f82638208>"
      ]
     },
     "execution_count": 76,
     "metadata": {},
     "output_type": "execute_result"
    },
    {
     "data": {
      "image/png": "[encoded data removed]",
      "text/plain": [
       "<matplotlib.figure.Figure at 0x20f8263e438>"
      ]
     },
     "metadata": {},
     "output_type": "display_data"
    }
   ],
   "source": [
    "import matplotlib.pyplot as plt\n",
    "import plotly.plotly as py\n",
    "\n",
    "y = list(proba[0])\n",
    "N = len(y)\n",
    "x = range(N)\n",
    "width = 1/1.5\n",
    "plt.bar(x, y, width, color=\"blue\")\n",
    "plt.xticks(np.arange(min(x), max(x)+1, 1.0))\n",
    "plt.ylabel('Probabilities', fontsize=16)\n",
    "plt.xlabel('Digits', fontsize=16)"
   ]
  },
  {
   "cell_type": "code",
   "execution_count": null,
   "metadata": {
    "collapsed": true
   },
   "outputs": [],
   "source": []
  }
 ],
 "metadata": {
  "kernelspec": {
   "display_name": "Python [conda root]",
   "language": "python",
   "name": "conda-root-py"
  },
  "language_info": {
   "codemirror_mode": {
    "name": "ipython",
    "version": 3
   },
   "file_extension": ".py",
   "mimetype": "text/x-python",
   "name": "python",
   "nbconvert_exporter": "python",
   "pygments_lexer": "ipython3",
   "version": "3.6.2"
  }
 },
 "nbformat": 4,
 "nbformat_minor": 2
}
