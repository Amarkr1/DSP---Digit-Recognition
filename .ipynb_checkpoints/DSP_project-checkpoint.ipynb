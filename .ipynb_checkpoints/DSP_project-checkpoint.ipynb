{
 "cells": [
  {
   "cell_type": "code",
   "execution_count": 1,
   "metadata": {
    "collapsed": true
   },
   "outputs": [],
   "source": [
    "INPUT_PATH = './input/'"
   ]
  },
  {
   "cell_type": "code",
   "execution_count": 24,
   "metadata": {},
   "outputs": [],
   "source": [
    "import numpy as np # linear algebra\n",
    "import pandas as pd # data processing, CSV file I/O (e.g. pd.read_csv)\n",
    "import keras\n",
    "from keras.utils import np_utils\n",
    "from keras.layers.core import Dense, Dropout\n",
    "from keras.layers import Convolution2D, MaxPooling2D, Flatten\n",
    "from keras.utils import plot_model, np_utils\n",
    "from sklearn.model_selection import train_test_split\n",
    "\n",
    "%matplotlib inline\n",
    "import matplotlib.pyplot as plt\n",
    "import matplotlib.cm as cm\n",
    "import math"
   ]
  },
  {
   "cell_type": "code",
   "execution_count": 4,
   "metadata": {},
   "outputs": [
    {
     "data": {
      "text/html": [
       "<div>\n",
       "<style>\n",
       "    .dataframe thead tr:only-child th {\n",
       "        text-align: right;\n",
       "    }\n",
       "\n",
       "    .dataframe thead th {\n",
       "        text-align: left;\n",
       "    }\n",
       "\n",
       "    .dataframe tbody tr th {\n",
       "        vertical-align: top;\n",
       "    }\n",
       "</style>\n",
       "<table border=\"1\" class=\"dataframe\">\n",
       "  <thead>\n",
       "    <tr style=\"text-align: right;\">\n",
       "      <th></th>\n",
       "      <th>label</th>\n",
       "      <th>pixel0</th>\n",
       "      <th>pixel1</th>\n",
       "      <th>pixel2</th>\n",
       "      <th>pixel3</th>\n",
       "      <th>pixel4</th>\n",
       "      <th>pixel5</th>\n",
       "      <th>pixel6</th>\n",
       "      <th>pixel7</th>\n",
       "      <th>pixel8</th>\n",
       "      <th>...</th>\n",
       "      <th>pixel774</th>\n",
       "      <th>pixel775</th>\n",
       "      <th>pixel776</th>\n",
       "      <th>pixel777</th>\n",
       "      <th>pixel778</th>\n",
       "      <th>pixel779</th>\n",
       "      <th>pixel780</th>\n",
       "      <th>pixel781</th>\n",
       "      <th>pixel782</th>\n",
       "      <th>pixel783</th>\n",
       "    </tr>\n",
       "  </thead>\n",
       "  <tbody>\n",
       "    <tr>\n",
       "      <th>1948</th>\n",
       "      <td>9</td>\n",
       "      <td>0</td>\n",
       "      <td>0</td>\n",
       "      <td>0</td>\n",
       "      <td>0</td>\n",
       "      <td>0</td>\n",
       "      <td>0</td>\n",
       "      <td>0</td>\n",
       "      <td>0</td>\n",
       "      <td>0</td>\n",
       "      <td>...</td>\n",
       "      <td>0</td>\n",
       "      <td>0</td>\n",
       "      <td>0</td>\n",
       "      <td>0</td>\n",
       "      <td>0</td>\n",
       "      <td>0</td>\n",
       "      <td>0</td>\n",
       "      <td>0</td>\n",
       "      <td>0</td>\n",
       "      <td>0</td>\n",
       "    </tr>\n",
       "    <tr>\n",
       "      <th>26542</th>\n",
       "      <td>2</td>\n",
       "      <td>0</td>\n",
       "      <td>0</td>\n",
       "      <td>0</td>\n",
       "      <td>0</td>\n",
       "      <td>0</td>\n",
       "      <td>0</td>\n",
       "      <td>0</td>\n",
       "      <td>0</td>\n",
       "      <td>0</td>\n",
       "      <td>...</td>\n",
       "      <td>0</td>\n",
       "      <td>0</td>\n",
       "      <td>0</td>\n",
       "      <td>0</td>\n",
       "      <td>0</td>\n",
       "      <td>0</td>\n",
       "      <td>0</td>\n",
       "      <td>0</td>\n",
       "      <td>0</td>\n",
       "      <td>0</td>\n",
       "    </tr>\n",
       "    <tr>\n",
       "      <th>11515</th>\n",
       "      <td>6</td>\n",
       "      <td>0</td>\n",
       "      <td>0</td>\n",
       "      <td>0</td>\n",
       "      <td>0</td>\n",
       "      <td>0</td>\n",
       "      <td>0</td>\n",
       "      <td>0</td>\n",
       "      <td>0</td>\n",
       "      <td>0</td>\n",
       "      <td>...</td>\n",
       "      <td>0</td>\n",
       "      <td>0</td>\n",
       "      <td>0</td>\n",
       "      <td>0</td>\n",
       "      <td>0</td>\n",
       "      <td>0</td>\n",
       "      <td>0</td>\n",
       "      <td>0</td>\n",
       "      <td>0</td>\n",
       "      <td>0</td>\n",
       "    </tr>\n",
       "    <tr>\n",
       "      <th>12693</th>\n",
       "      <td>8</td>\n",
       "      <td>0</td>\n",
       "      <td>0</td>\n",
       "      <td>0</td>\n",
       "      <td>0</td>\n",
       "      <td>0</td>\n",
       "      <td>0</td>\n",
       "      <td>0</td>\n",
       "      <td>0</td>\n",
       "      <td>0</td>\n",
       "      <td>...</td>\n",
       "      <td>0</td>\n",
       "      <td>0</td>\n",
       "      <td>0</td>\n",
       "      <td>0</td>\n",
       "      <td>0</td>\n",
       "      <td>0</td>\n",
       "      <td>0</td>\n",
       "      <td>0</td>\n",
       "      <td>0</td>\n",
       "      <td>0</td>\n",
       "    </tr>\n",
       "    <tr>\n",
       "      <th>15255</th>\n",
       "      <td>6</td>\n",
       "      <td>0</td>\n",
       "      <td>0</td>\n",
       "      <td>0</td>\n",
       "      <td>0</td>\n",
       "      <td>0</td>\n",
       "      <td>0</td>\n",
       "      <td>0</td>\n",
       "      <td>0</td>\n",
       "      <td>0</td>\n",
       "      <td>...</td>\n",
       "      <td>0</td>\n",
       "      <td>0</td>\n",
       "      <td>0</td>\n",
       "      <td>0</td>\n",
       "      <td>0</td>\n",
       "      <td>0</td>\n",
       "      <td>0</td>\n",
       "      <td>0</td>\n",
       "      <td>0</td>\n",
       "      <td>0</td>\n",
       "    </tr>\n",
       "    <tr>\n",
       "      <th>4104</th>\n",
       "      <td>4</td>\n",
       "      <td>0</td>\n",
       "      <td>0</td>\n",
       "      <td>0</td>\n",
       "      <td>0</td>\n",
       "      <td>0</td>\n",
       "      <td>0</td>\n",
       "      <td>0</td>\n",
       "      <td>0</td>\n",
       "      <td>0</td>\n",
       "      <td>...</td>\n",
       "      <td>0</td>\n",
       "      <td>0</td>\n",
       "      <td>0</td>\n",
       "      <td>0</td>\n",
       "      <td>0</td>\n",
       "      <td>0</td>\n",
       "      <td>0</td>\n",
       "      <td>0</td>\n",
       "      <td>0</td>\n",
       "      <td>0</td>\n",
       "    </tr>\n",
       "    <tr>\n",
       "      <th>34593</th>\n",
       "      <td>9</td>\n",
       "      <td>0</td>\n",
       "      <td>0</td>\n",
       "      <td>0</td>\n",
       "      <td>0</td>\n",
       "      <td>0</td>\n",
       "      <td>0</td>\n",
       "      <td>0</td>\n",
       "      <td>0</td>\n",
       "      <td>0</td>\n",
       "      <td>...</td>\n",
       "      <td>0</td>\n",
       "      <td>0</td>\n",
       "      <td>0</td>\n",
       "      <td>0</td>\n",
       "      <td>0</td>\n",
       "      <td>0</td>\n",
       "      <td>0</td>\n",
       "      <td>0</td>\n",
       "      <td>0</td>\n",
       "      <td>0</td>\n",
       "    </tr>\n",
       "    <tr>\n",
       "      <th>8525</th>\n",
       "      <td>5</td>\n",
       "      <td>0</td>\n",
       "      <td>0</td>\n",
       "      <td>0</td>\n",
       "      <td>0</td>\n",
       "      <td>0</td>\n",
       "      <td>0</td>\n",
       "      <td>0</td>\n",
       "      <td>0</td>\n",
       "      <td>0</td>\n",
       "      <td>...</td>\n",
       "      <td>0</td>\n",
       "      <td>0</td>\n",
       "      <td>0</td>\n",
       "      <td>0</td>\n",
       "      <td>0</td>\n",
       "      <td>0</td>\n",
       "      <td>0</td>\n",
       "      <td>0</td>\n",
       "      <td>0</td>\n",
       "      <td>0</td>\n",
       "    </tr>\n",
       "    <tr>\n",
       "      <th>33686</th>\n",
       "      <td>4</td>\n",
       "      <td>0</td>\n",
       "      <td>0</td>\n",
       "      <td>0</td>\n",
       "      <td>0</td>\n",
       "      <td>0</td>\n",
       "      <td>0</td>\n",
       "      <td>0</td>\n",
       "      <td>0</td>\n",
       "      <td>0</td>\n",
       "      <td>...</td>\n",
       "      <td>0</td>\n",
       "      <td>0</td>\n",
       "      <td>0</td>\n",
       "      <td>0</td>\n",
       "      <td>0</td>\n",
       "      <td>0</td>\n",
       "      <td>0</td>\n",
       "      <td>0</td>\n",
       "      <td>0</td>\n",
       "      <td>0</td>\n",
       "    </tr>\n",
       "    <tr>\n",
       "      <th>14634</th>\n",
       "      <td>6</td>\n",
       "      <td>0</td>\n",
       "      <td>0</td>\n",
       "      <td>0</td>\n",
       "      <td>0</td>\n",
       "      <td>0</td>\n",
       "      <td>0</td>\n",
       "      <td>0</td>\n",
       "      <td>0</td>\n",
       "      <td>0</td>\n",
       "      <td>...</td>\n",
       "      <td>0</td>\n",
       "      <td>0</td>\n",
       "      <td>0</td>\n",
       "      <td>0</td>\n",
       "      <td>0</td>\n",
       "      <td>0</td>\n",
       "      <td>0</td>\n",
       "      <td>0</td>\n",
       "      <td>0</td>\n",
       "      <td>0</td>\n",
       "    </tr>\n",
       "  </tbody>\n",
       "</table>\n",
       "<p>10 rows × 785 columns</p>\n",
       "</div>"
      ],
      "text/plain": [
       "       label  pixel0  pixel1  pixel2  pixel3  pixel4  pixel5  pixel6  pixel7  \\\n",
       "1948       9       0       0       0       0       0       0       0       0   \n",
       "26542      2       0       0       0       0       0       0       0       0   \n",
       "11515      6       0       0       0       0       0       0       0       0   \n",
       "12693      8       0       0       0       0       0       0       0       0   \n",
       "15255      6       0       0       0       0       0       0       0       0   \n",
       "4104       4       0       0       0       0       0       0       0       0   \n",
       "34593      9       0       0       0       0       0       0       0       0   \n",
       "8525       5       0       0       0       0       0       0       0       0   \n",
       "33686      4       0       0       0       0       0       0       0       0   \n",
       "14634      6       0       0       0       0       0       0       0       0   \n",
       "\n",
       "       pixel8    ...     pixel774  pixel775  pixel776  pixel777  pixel778  \\\n",
       "1948        0    ...            0         0         0         0         0   \n",
       "26542       0    ...            0         0         0         0         0   \n",
       "11515       0    ...            0         0         0         0         0   \n",
       "12693       0    ...            0         0         0         0         0   \n",
       "15255       0    ...            0         0         0         0         0   \n",
       "4104        0    ...            0         0         0         0         0   \n",
       "34593       0    ...            0         0         0         0         0   \n",
       "8525        0    ...            0         0         0         0         0   \n",
       "33686       0    ...            0         0         0         0         0   \n",
       "14634       0    ...            0         0         0         0         0   \n",
       "\n",
       "       pixel779  pixel780  pixel781  pixel782  pixel783  \n",
       "1948          0         0         0         0         0  \n",
       "26542         0         0         0         0         0  \n",
       "11515         0         0         0         0         0  \n",
       "12693         0         0         0         0         0  \n",
       "15255         0         0         0         0         0  \n",
       "4104          0         0         0         0         0  \n",
       "34593         0         0         0         0         0  \n",
       "8525          0         0         0         0         0  \n",
       "33686         0         0         0         0         0  \n",
       "14634         0         0         0         0         0  \n",
       "\n",
       "[10 rows x 785 columns]"
      ]
     },
     "execution_count": 4,
     "metadata": {},
     "output_type": "execute_result"
    }
   ],
   "source": [
    "train = pd.read_csv('train.csv')\n",
    "train.sample(10)"
   ]
  },
  {
   "cell_type": "code",
   "execution_count": 5,
   "metadata": {
    "collapsed": true
   },
   "outputs": [],
   "source": [
    "train_y = keras.utils.to_categorical(train.label.values)"
   ]
  },
  {
   "cell_type": "code",
   "execution_count": 6,
   "metadata": {},
   "outputs": [
    {
     "data": {
      "text/plain": [
       "(42000, 10)"
      ]
     },
     "execution_count": 6,
     "metadata": {},
     "output_type": "execute_result"
    }
   ],
   "source": [
    "train_y.shape"
   ]
  },
  {
   "cell_type": "code",
   "execution_count": 7,
   "metadata": {
    "collapsed": true
   },
   "outputs": [],
   "source": [
    "train_x = train.drop('label', axis=1).values"
   ]
  },
  {
   "cell_type": "code",
   "execution_count": 8,
   "metadata": {
    "collapsed": true
   },
   "outputs": [],
   "source": [
    "def normalize(array):\n",
    "    # Normalize the data\n",
    "    array = array.astype(np.float32) / 255.0 \n",
    "    a = array-array.mean(axis=1,keepdims=True)\n",
    "    a = a / array.std(axis = 1,keepdims = True)\n",
    "    return a\n",
    "\n",
    "train_x = normalize(train_x)"
   ]
  },
  {
   "cell_type": "code",
   "execution_count": 9,
   "metadata": {
    "collapsed": true
   },
   "outputs": [],
   "source": [
    "train_x = train_x.reshape(train_x.shape[0],28,28,1)"
   ]
  },
  {
   "cell_type": "code",
   "execution_count": 10,
   "metadata": {
    "collapsed": true
   },
   "outputs": [],
   "source": [
    "train_x, test_x, train_y, test_y = train_test_split(train_x, train_y, test_size=0.33, random_state=777)"
   ]
  },
  {
   "cell_type": "code",
   "execution_count": 11,
   "metadata": {},
   "outputs": [
    {
     "data": {
      "text/plain": [
       "(28140, 28, 28, 1)"
      ]
     },
     "execution_count": 11,
     "metadata": {},
     "output_type": "execute_result"
    }
   ],
   "source": [
    "train_x.shape"
   ]
  },
  {
   "cell_type": "code",
   "execution_count": 88,
   "metadata": {},
   "outputs": [
    {
     "data": {
      "image/png": "[encoded data removed]",
      "text/plain": [
       "<matplotlib.figure.Figure at 0x16609d39be0>"
      ]
     },
     "metadata": {},
     "output_type": "display_data"
    }
   ],
   "source": [
    "# display image\n",
    "def display(img):\n",
    "    \n",
    "    # (4096) => (64,64)\n",
    "    one_image = img.reshape(28,28)\n",
    "    \n",
    "    plt.axis('off')\n",
    "    plt.imshow(one_image, cmap=cm.binary)\n",
    "\n",
    "\n",
    "display(train_x[10])"
   ]
  },
  {
   "cell_type": "code",
   "execution_count": 12,
   "metadata": {
    "collapsed": true
   },
   "outputs": [],
   "source": [
    "def get_model():\n",
    "    model = keras.models.Sequential()\n",
    "    # Hidden layer of 512 neurons\n",
    "    model.add(Convolution2D(32,3,3, activation='relu', input_shape=(28,28,1,)))\n",
    "    model.add(Convolution2D(32,3,3, activation='relu'))\n",
    "    model.add(MaxPooling2D(pool_size=(2,2)))\n",
    "    model.add(Dropout(0.25))\n",
    "    model.add(Flatten())\n",
    "    model.add(Dense(128, activation='relu'))\n",
    "    model.add(Dropout(0.25))\n",
    "    model.add(Dense(10, activation='softmax'))\n",
    "    return model"
   ]
  },
  {
   "cell_type": "code",
   "execution_count": 13,
   "metadata": {},
   "outputs": [
    {
     "name": "stdout",
     "output_type": "stream",
     "text": [
      "_________________________________________________________________\n",
      "Layer (type)                 Output Shape              Param #   \n",
      "=================================================================\n",
      "conv2d_1 (Conv2D)            (None, 26, 26, 32)        320       \n",
      "_________________________________________________________________\n",
      "conv2d_2 (Conv2D)            (None, 24, 24, 32)        9248      \n",
      "_________________________________________________________________\n",
      "max_pooling2d_1 (MaxPooling2 (None, 12, 12, 32)        0         \n",
      "_________________________________________________________________\n",
      "dropout_1 (Dropout)          (None, 12, 12, 32)        0         \n",
      "_________________________________________________________________\n",
      "flatten_1 (Flatten)          (None, 4608)              0         \n",
      "_________________________________________________________________\n",
      "dense_1 (Dense)              (None, 128)               589952    \n",
      "_________________________________________________________________\n",
      "dropout_2 (Dropout)          (None, 128)               0         \n",
      "_________________________________________________________________\n",
      "dense_2 (Dense)              (None, 10)                1290      \n",
      "=================================================================\n",
      "Total params: 600,810\n",
      "Trainable params: 600,810\n",
      "Non-trainable params: 0\n",
      "_________________________________________________________________\n"
     ]
    },
    {
     "name": "stderr",
     "output_type": "stream",
     "text": [
      "C:\\Users\\akumar47\\AppData\\Local\\Continuum\\anaconda3\\lib\\site-packages\\ipykernel\\__main__.py:4: UserWarning: Update your `Conv2D` call to the Keras 2 API: `Conv2D(32, (3, 3), activation=\"relu\", input_shape=(28, 28, 1...)`\n",
      "C:\\Users\\akumar47\\AppData\\Local\\Continuum\\anaconda3\\lib\\site-packages\\ipykernel\\__main__.py:5: UserWarning: Update your `Conv2D` call to the Keras 2 API: `Conv2D(32, (3, 3), activation=\"relu\")`\n"
     ]
    }
   ],
   "source": [
    "model = get_model()\n",
    "model.summary()\n",
    "\n",
    "model.compile(loss='categorical_crossentropy', optimizer='adam',metrics=['accuracy'])"
   ]
  },
  {
   "cell_type": "code",
   "execution_count": 14,
   "metadata": {},
   "outputs": [
    {
     "name": "stdout",
     "output_type": "stream",
     "text": [
      "Train on 28140 samples, validate on 13860 samples\n",
      "Epoch 1/10\n",
      "28140/28140 [==============================] - 51s - loss: 0.1964 - acc: 0.9386 - val_loss: 0.0660 - val_acc: 0.9807\n",
      "Epoch 2/10\n",
      "28140/28140 [==============================] - 48s - loss: 0.0691 - acc: 0.9778 - val_loss: 0.0555 - val_acc: 0.9839\n",
      "Epoch 3/10\n",
      "28140/28140 [==============================] - 47s - loss: 0.0496 - acc: 0.9836 - val_loss: 0.0499 - val_acc: 0.9861\n",
      "Epoch 4/10\n",
      "28140/28140 [==============================] - 46s - loss: 0.0413 - acc: 0.9865 - val_loss: 0.0534 - val_acc: 0.9846\n",
      "Epoch 5/10\n",
      "28140/28140 [==============================] - 50s - loss: 0.0306 - acc: 0.9902 - val_loss: 0.0490 - val_acc: 0.9877\n",
      "Epoch 6/10\n",
      "28140/28140 [==============================] - 50s - loss: 0.0270 - acc: 0.9916 - val_loss: 0.0434 - val_acc: 0.9883\n",
      "Epoch 7/10\n",
      "28140/28140 [==============================] - 50s - loss: 0.0258 - acc: 0.9917 - val_loss: 0.0449 - val_acc: 0.9879\n",
      "Epoch 8/10\n",
      "28140/28140 [==============================] - 49s - loss: 0.0215 - acc: 0.9927 - val_loss: 0.0490 - val_acc: 0.9874\n",
      "Epoch 9/10\n",
      "28140/28140 [==============================] - 51s - loss: 0.0196 - acc: 0.9931 - val_loss: 0.0485 - val_acc: 0.9869\n",
      "Epoch 10/10\n",
      "28140/28140 [==============================] - 51s - loss: 0.0162 - acc: 0.9947 - val_loss: 0.0502 - val_acc: 0.9892\n"
     ]
    },
    {
     "data": {
      "text/plain": [
       "<keras.callbacks.History at 0x1662c5488d0>"
      ]
     },
     "execution_count": 14,
     "metadata": {},
     "output_type": "execute_result"
    }
   ],
   "source": [
    "model.fit(train_x, train_y, batch_size=32, epochs=10, validation_data=(test_x, test_y))"
   ]
  },
  {
   "cell_type": "code",
   "execution_count": 15,
   "metadata": {},
   "outputs": [
    {
     "name": "stdout",
     "output_type": "stream",
     "text": [
      "Test loss: 0.050176877299\n",
      "Test accuracy: 0.98924963925\n"
     ]
    }
   ],
   "source": [
    "score = model.evaluate(test_x, test_y, verbose=0)\n",
    "print('Test loss:', score[0])\n",
    "print('Test accuracy:', score[1])"
   ]
  },
  {
   "cell_type": "code",
   "execution_count": 16,
   "metadata": {},
   "outputs": [
    {
     "name": "stderr",
     "output_type": "stream",
     "text": [
      "C:\\Users\\akumar47\\AppData\\Local\\Continuum\\anaconda3\\lib\\site-packages\\ipykernel\\__main__.py:4: UserWarning: Update your `Conv2D` call to the Keras 2 API: `Conv2D(32, (3, 3), activation=\"relu\", input_shape=(28, 28, 1...)`\n",
      "C:\\Users\\akumar47\\AppData\\Local\\Continuum\\anaconda3\\lib\\site-packages\\ipykernel\\__main__.py:5: UserWarning: Update your `Conv2D` call to the Keras 2 API: `Conv2D(32, (3, 3), activation=\"relu\")`\n"
     ]
    },
    {
     "name": "stdout",
     "output_type": "stream",
     "text": [
      "Epoch 1/10\n",
      "42000/42000 [==============================] - 69s - loss: 0.1600 - acc: 0.9499    \n",
      "Epoch 2/10\n",
      "42000/42000 [==============================] - 68s - loss: 0.0608 - acc: 0.9809    \n",
      "Epoch 3/10\n",
      "42000/42000 [==============================] - 67s - loss: 0.0429 - acc: 0.9861    - ETA\n",
      "Epoch 4/10\n",
      "42000/42000 [==============================] - 67s - loss: 0.0365 - acc: 0.9882    \n",
      "Epoch 5/10\n",
      "42000/42000 [==============================] - 69s - loss: 0.0296 - acc: 0.9901    \n",
      "Epoch 6/10\n",
      "42000/42000 [==============================] - 67s - loss: 0.0267 - acc: 0.9914    \n",
      "Epoch 7/10\n",
      "42000/42000 [==============================] - 64s - loss: 0.0216 - acc: 0.9926    \n",
      "Epoch 8/10\n",
      "42000/42000 [==============================] - 63s - loss: 0.0207 - acc: 0.9935    - ETA: 1s - loss:\n",
      "Epoch 9/10\n",
      "42000/42000 [==============================] - 67s - loss: 0.0169 - acc: 0.9948    \n",
      "Epoch 10/10\n",
      "42000/42000 [==============================] - 66s - loss: 0.0169 - acc: 0.9949    \n"
     ]
    },
    {
     "data": {
      "text/plain": [
       "<keras.callbacks.History at 0x1662c7b17f0>"
      ]
     },
     "execution_count": 16,
     "metadata": {},
     "output_type": "execute_result"
    }
   ],
   "source": [
    "train = pd.read_csv('train.csv')\n",
    "train_y = keras.utils.to_categorical(train.label.values)\n",
    "train_x = train.drop('label', axis=1).values\n",
    "train_x = normalize(train_x)\n",
    "train_x = train_x.reshape(train_x.shape[0],28,28,1)\n",
    "model = get_model()\n",
    "model.compile(loss='categorical_crossentropy', optimizer='adam',metrics=['accuracy'])\n",
    "model.fit(train_x, train_y, batch_size=32, epochs=10)"
   ]
  },
  {
   "cell_type": "code",
   "execution_count": 89,
   "metadata": {},
   "outputs": [
    {
     "name": "stdout",
     "output_type": "stream",
     "text": [
      "(28, 28)\n",
      "(28, 28)\n",
      "(28, 28)\n"
     ]
    },
    {
     "data": {
      "image/png": "[encoded data removed]",
      "text/plain": [
       "<matplotlib.figure.Figure at 0x1660a36d940>"
      ]
     },
     "metadata": {},
     "output_type": "display_data"
    }
   ],
   "source": [
    "from scipy import misc\n",
    "import glob\n",
    "a = np.zeros(shape=(1,784))\n",
    "for image_path in glob.glob(\"C:\\\\Users\\\\akumar47\\\\Dropbox\\\\Courses\\\\ECSE 512 - DSP\\\\Project\\\\Resized Images\\\\*.png\"):\n",
    "    image = np.dot(misc.imread(image_path)[...,:3], [0.299, 0.587, 0.114])\n",
    "    a =np.concatenate((a,255.0- np.reshape(image,(1,784))))\n",
    "    print (image.shape)\n",
    "a=a[1:,:]\n",
    "\n",
    "\n",
    "df = pd.DataFrame(a)\n",
    "df.to_csv(\"./test.csv\",index=False)\n",
    "#a.tofile('./test.csv',sep=',')\n",
    "display(a[2])\n",
    "\n",
    "\n"
   ]
  },
  {
   "cell_type": "code",
   "execution_count": 96,
   "metadata": {
    "collapsed": true
   },
   "outputs": [],
   "source": [
    "\n",
    "# create an array where we can store our 4 pictures\n",
    "images = np.zeros((4,784))\n",
    "# and the correct values\n",
    "correct_vals = np.zeros((4,10))\n",
    "import cv2\n",
    "\n",
    "\n",
    "# we want to test our images which you saw at the top of this page\n",
    "i = 0\n",
    "for image in glob.glob(\"C:\\\\Users\\\\akumar47\\\\Dropbox\\\\Courses\\\\ECSE 512 - DSP\\\\Project\\\\Resized Images\\\\*.png\"):\n",
    "    # read the image\n",
    "    gray = cv2.imread(image, cv2.CV_LOAD_IMAGE_GRAYSCALE)\n",
    "\n",
    "    # resize the images and invert it (black background)\n",
    "    gray = cv2.resize(255-gray, (28, 28))\n",
    "    \n",
    "    # save the processed images\n",
    "    cv2.imwrite(\"pro-img/image_\"+str(no)+\".png\", gray)\n",
    "    \n",
    "    \"\"\"\n",
    "    all images in the training set have an range from 0-1\n",
    "    and not from 0-255 so we divide our flatten images\n",
    "    (a one dimensional vector with our 784 pixels)\n",
    "    to use the same 0-1 based range\n",
    "    \"\"\"\n",
    "    flatten = gray.flatten() / 255.0\n",
    "    \"\"\"\n",
    "    we need to store the flatten image and generate\n",
    "    the correct_vals array\n",
    "    correct_val for the first digit (9) would be\n",
    "    [0,0,0,0,0,0,0,0,0,1]\n",
    "    \"\"\"\n",
    "    images[i] = flatten\n",
    "    correct_val = np.zeros((10))\n",
    "    correct_val[no] = 1\n",
    "    correct_vals[i] = correct_val\n",
    "    i += 1\n",
    "\n",
    "\n"
   ]
  },
  {
   "cell_type": "code",
   "execution_count": 25,
   "metadata": {},
   "outputs": [],
   "source": []
  },
  {
   "cell_type": "code",
   "execution_count": 93,
   "metadata": {},
   "outputs": [
    {
     "data": {
      "image/png": "[encoded data removed]",
      "text/plain": [
       "<matplotlib.figure.Figure at 0x1660a4102e8>"
      ]
     },
     "metadata": {},
     "output_type": "display_data"
    }
   ],
   "source": [
    "test = pd.read_csv('test.csv')\n",
    "test_x = normalize(test.values)\n",
    "# output image\n",
    "display(test_x[3])\n",
    "test_x = test_x.reshape(test_x.shape[0],28,28,1)\n",
    "     \n",
    "\n",
    "predictions = model.predict(test_x)"
   ]
  },
  {
   "cell_type": "code",
   "execution_count": 62,
   "metadata": {},
   "outputs": [],
   "source": [
    "import time\n",
    "\n",
    "# select the indix with the maximum probability\n",
    "predictions = np.argmax(predictions,axis = 1)\n",
    "predictions = pd.Series(predictions,name=\"Label\")\n",
    "\n",
    "submission = pd.concat([pd.Series(range(1,len(a)),name = \"ImageId\"),predictions],axis = 1)\n",
    "\n",
    "submission.to_csv('prediction.acc_' + str(score[1]) + '.csv', index=False)"
   ]
  },
  {
   "cell_type": "code",
   "execution_count": 94,
   "metadata": {},
   "outputs": [
    {
     "data": {
      "text/plain": [
       "array([[  7.98528788e-07,   1.02399747e-04,   1.12814913e-02,\n",
       "          8.75123441e-01,   7.82477684e-07,   3.16903042e-03,\n",
       "          6.32668889e-06,   1.10268086e-01,   3.38789760e-05,\n",
       "          1.37169500e-05],\n",
       "       [  7.98528788e-07,   1.02399747e-04,   1.12814913e-02,\n",
       "          8.75123441e-01,   7.82477684e-07,   3.16903042e-03,\n",
       "          6.32668889e-06,   1.10268086e-01,   3.38789760e-05,\n",
       "          1.37169500e-05],\n",
       "       [  1.55469752e-04,   3.60586547e-08,   8.53018901e-06,\n",
       "          9.98886526e-01,   3.84360295e-12,   6.98950025e-04,\n",
       "          1.29759667e-06,   3.85992713e-12,   2.29481200e-04,\n",
       "          1.97070531e-05],\n",
       "       [  8.23752416e-15,   1.00000000e+00,   6.14021030e-12,\n",
       "          9.84702536e-17,   7.61082170e-12,   7.24965403e-14,\n",
       "          6.33504360e-10,   5.49174286e-14,   7.35744632e-10,\n",
       "          2.38599800e-15]], dtype=float32)"
      ]
     },
     "execution_count": 94,
     "metadata": {},
     "output_type": "execute_result"
    }
   ],
   "source": [
    "predictions"
   ]
  },
  {
   "cell_type": "code",
   "execution_count": 95,
   "metadata": {},
   "outputs": [
    {
     "data": {
      "text/plain": [
       "array([3, 3, 3, 1], dtype=int64)"
      ]
     },
     "execution_count": 95,
     "metadata": {},
     "output_type": "execute_result"
    }
   ],
   "source": [
    "np.argmax(predictions,axis = 1)"
   ]
  },
  {
   "cell_type": "code",
   "execution_count": null,
   "metadata": {
    "collapsed": true
   },
   "outputs": [],
   "source": []
  }
 ],
 "metadata": {
  "kernelspec": {
   "display_name": "Python [conda root]",
   "language": "python",
   "name": "conda-root-py"
  },
  "language_info": {
   "codemirror_mode": {
    "name": "ipython",
    "version": 3
   },
   "file_extension": ".py",
   "mimetype": "text/x-python",
   "name": "python",
   "nbconvert_exporter": "python",
   "pygments_lexer": "ipython3",
   "version": "3.6.2"
  }
 },
 "nbformat": 4,
 "nbformat_minor": 2
}
